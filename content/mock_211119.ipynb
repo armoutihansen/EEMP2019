{
 "cells": [
  {
   "cell_type": "markdown",
   "metadata": {},
   "source": [
    "## WS 2019/20 – The Empirical Evaluation of Management Practices I\n",
    "\n",
    "# Exam structure\n",
    "\n",
    "**Total duration**: 1 hour 30 minutes\n",
    "\n",
    "**Working time**: approx. 1 hour\n",
    "\n",
    "**Exam materials**: \n",
    "\n",
    "On the day of the exam, we will provide you with:\n",
    "\n",
    "- A dataset\n",
    "- A Jupyter Notebook template, which contains the general instruction and exam questions\n",
    "- These will be either downloadable online or distributed via a memory stick\n",
    "\n",
    "**Deliverables**: At the end of the exam, you will be asked to hand in your solutions in the prepared Jupyter Notebook (both programming code and written explanations in markup) via upload or on a memory stick. We will give specific instructions on how to name and upload your files.\n",
    "\n",
    "**Auxiliary materials**: open book exam, i.e., all materials are allowed. \n",
    "\n",
    "***However, communication between students is not permitted and if detected will result in failing the exam.***\n",
    "\n",
    "**General structure**: \n",
    "\n",
    "The exam will consist of a combination of three types of questions:\n",
    "\n",
    "i. Questions on conceptual understanding which require only short answers ~ *20 %*;\n",
    "\n",
    "ii. Programming task which analyzes the data provided ~ *40 %*;\n",
    "\n",
    "iii. Interpretation and conceptual questions based on the results of your previous analysis ~ *40 %*"
   ]
  },
  {
   "cell_type": "markdown",
   "metadata": {},
   "source": [
    "# Mock Exam"
   ]
  },
  {
   "cell_type": "markdown",
   "metadata": {},
   "source": [
    "## Assignment 1 (30 points)"
   ]
  },
  {
   "cell_type": "markdown",
   "metadata": {},
   "source": [
    "__a)__\tUse the dataset provided in class from Bloom et al. (2012) [AMP_Data.csv] and estimate the following OLS regression and show its output using python (remember to cluster the standard errors on the \"account_id\" level):\n",
    "\n",
    "**Output 1**: $$ ln(sales) = \\alpha + \\beta_{1} * management + \\beta_{2} * ln(emp) + \\beta_{3} * ln(cap) + \\epsilon $$\n",
    "\n",
    "Please give a precise verbal interpretation of the coefficient for management and its statistical significance.   \n",
    "\n",
    "*Note: In the dataset capital (cap) can be found in the column \"ppent\" *\n",
    "\n",
    "<div style=\"text-align: right\"> <b>6 points</b> </div>"
   ]
  },
  {
   "cell_type": "code",
   "execution_count": null,
   "metadata": {},
   "outputs": [],
   "source": [
    "# Insert your code here:\n",
    "\n",
    "\n"
   ]
  },
  {
   "cell_type": "markdown",
   "metadata": {},
   "source": [
    "'# Insert your answer here:\n",
    "\n",
    "\n",
    "\n"
   ]
  },
  {
   "cell_type": "markdown",
   "metadata": {},
   "source": [
    "__b)__\tUse the same data set to estimate the following regression:\n",
    "\n",
    "**Output 2**: $$ ln(cap) =  \\alpha + \\beta_{1} * management + \\beta_{2} * ln(emp) + \\epsilon $$\n",
    "\n",
    "Please give a verbal interpretation of the coefficient of management.\n",
    "\n",
    "<div style=\"text-align: right\"> <b>4 points</b> </div>"
   ]
  },
  {
   "cell_type": "code",
   "execution_count": null,
   "metadata": {},
   "outputs": [],
   "source": [
    "# Insert your code here:\n",
    "\n",
    "\n"
   ]
  },
  {
   "cell_type": "markdown",
   "metadata": {},
   "source": [
    "'# Insert your answer here:\n",
    "\n",
    "\n",
    "\n"
   ]
  },
  {
   "cell_type": "markdown",
   "metadata": {},
   "source": [
    "__c)__ Suppose you would not control for capital in the first regression (i.e. with which you generated output 1). How can you compute the coefficient of \"management\" arising in such a regression **without** running this additional regression only using regression outputs 1 and 2? Please explain your answer and show how you computed the coefficient. \n",
    "\n",
    "<div style=\"text-align: right\"> <b>6 points</b> </div>"
   ]
  },
  {
   "cell_type": "markdown",
   "metadata": {},
   "source": [
    "'# Insert your answer here:\n",
    "\n",
    "\n",
    "\n"
   ]
  },
  {
   "cell_type": "markdown",
   "metadata": {},
   "source": [
    "__d)__ What does this analysis reveal about the role of capital if you want to estimate the effect of management practices on sales?\n",
    "\n",
    "<div style=\"text-align: right\"> <b>3 points</b> </div>"
   ]
  },
  {
   "cell_type": "markdown",
   "metadata": {},
   "source": [
    "'# Insert your answer here:\n",
    "\n",
    "\n",
    "\n"
   ]
  },
  {
   "cell_type": "markdown",
   "metadata": {},
   "source": [
    "__e)__ How do you interpret the R2 in regression Output 1?\n",
    "\n",
    "<div style=\"text-align: right\"> <b>3 points</b> </div>"
   ]
  },
  {
   "cell_type": "markdown",
   "metadata": {},
   "source": [
    "'# Insert your answer here:\n",
    "\n",
    "\n",
    "\n"
   ]
  },
  {
   "cell_type": "markdown",
   "metadata": {},
   "source": [
    "__f)__ What are reasons to use the logarithm of the depended variable sales?\n",
    "\n",
    "<div style=\"text-align: right\"> <b>3 points</b> </div>"
   ]
  },
  {
   "cell_type": "markdown",
   "metadata": {},
   "source": [
    "'# Insert your answer here:\n",
    "\n",
    "\n",
    "\n"
   ]
  },
  {
   "cell_type": "markdown",
   "metadata": {},
   "source": [
    "__g)__ Please investigate empirically whether the strength of the association between sales and management score depends on the firm size (as measured by the number of employees). Run a regression and interpret the results with respect to this research question.\n",
    "\n",
    "<div style=\"text-align: right\"> <b>5 points</b> </div>"
   ]
  },
  {
   "cell_type": "code",
   "execution_count": null,
   "metadata": {},
   "outputs": [],
   "source": [
    "# Insert your code here:\n",
    "\n",
    "\n"
   ]
  },
  {
   "cell_type": "markdown",
   "metadata": {},
   "source": [
    "'# Insert your answer here:\n",
    "\n",
    "\n",
    "\n"
   ]
  },
  {
   "cell_type": "markdown",
   "metadata": {},
   "source": [
    "## Assignment 2 (30 points)"
   ]
  },
  {
   "cell_type": "markdown",
   "metadata": {},
   "source": [
    "*Your task in this assignment is to use your knowledge of Machine Learning to perform model selection and/or model assessment on the AMP dataset. In particular, you will create and evaluate linear regression models which aim at predicting log(sales) based on 18 management practices. In one instance you will use the 'management' column only, which is the average over all management practice dimensions. In another instance, you will use each of the 18 dimensions explicitly in a regression.*"
   ]
  },
  {
   "cell_type": "code",
   "execution_count": null,
   "metadata": {},
   "outputs": [],
   "source": [
    "cols = ['ln_sales', 'management', 'lean1', 'lean2', 'perf1', 'perf2', 'perf3',\n",
    "        'perf4','perf5', 'perf6', 'perf7', 'perf8', 'perf9', 'perf10', 'talent1',\n",
    "        'talent2','talent3', 'talent4', 'talent5', 'talent6']"
   ]
  },
  {
   "cell_type": "markdown",
   "metadata": {},
   "source": [
    "__a)__ Subset the data such that the resulting dataframe only contains the columns defined in the list \"cols\" above. From the resulting dataframe, remove all rows which contain 'NaNs' (i.e. missing values) in any of the columns.\n",
    "<div style=\"text-align: right\"> <b>2 points</b> </div>"
   ]
  },
  {
   "cell_type": "code",
   "execution_count": null,
   "metadata": {},
   "outputs": [],
   "source": [
    "# Insert your code here:\n",
    "\n",
    "\n"
   ]
  },
  {
   "cell_type": "markdown",
   "metadata": {},
   "source": [
    "*Now you want to get an unbiased estimate of the mean squared error of the simple linear regression using only the 'management' column to predict 'log(sales)':* \n",
    "\\begin{equation}\n",
    "ln(sales) = \\alpha + \\beta_1* management + \\epsilon\n",
    "\\end{equation}"
   ]
  },
  {
   "cell_type": "markdown",
   "metadata": {},
   "source": [
    "__b)__ Describe the validation set approach (without model selection) and explain why this approach is preferable to using the whole dataset for both model estimation and assessment.\n",
    "<div style=\"text-align: right\"> <b>3 points</b> </div>"
   ]
  },
  {
   "cell_type": "markdown",
   "metadata": {},
   "source": [
    "'# Insert your answer here:\n",
    "\n",
    "\n",
    "\n"
   ]
  },
  {
   "cell_type": "markdown",
   "metadata": {},
   "source": [
    "__c)__ Split the data into a training set containing 75% of the observations and a test set containing 25% of the observations. Use 181 as the random state to allow for reproducibility and name the variables: X_train, X_test, y_train, y_test.\n",
    "<div style=\"text-align: right\"> <b>2 points</b> </div>"
   ]
  },
  {
   "cell_type": "code",
   "execution_count": 2,
   "metadata": {},
   "outputs": [],
   "source": [
    "# Insert your code here:\n",
    "\n",
    "\n",
    "\n"
   ]
  },
  {
   "cell_type": "markdown",
   "metadata": {},
   "source": [
    "__d)__ Perform the linear regression on the training set and calculate and print the model's mean squared error on both the training set and the test set.\n",
    "<div style=\"text-align: right\"> <b>4 points</b> </div>"
   ]
  },
  {
   "cell_type": "code",
   "execution_count": 2,
   "metadata": {},
   "outputs": [],
   "source": [
    "# Insert your code here:\n",
    "\n",
    "\n",
    "\n"
   ]
  },
  {
   "cell_type": "markdown",
   "metadata": {},
   "source": [
    "__e)__ Please comment on the two error estimates: Does the relationship between the MSE on the training set and test set correspond to your answer in b)? Which of the two is the best estimate of the model's generalization error. Explain your answer.\n",
    "<div style=\"text-align: right\"> <b>4 points</b> </div>"
   ]
  },
  {
   "cell_type": "markdown",
   "metadata": {},
   "source": [
    "'# Insert your answer here:\n",
    "\n",
    "\n",
    "\n"
   ]
  },
  {
   "cell_type": "markdown",
   "metadata": {},
   "source": [
    "*Now you want to perform both model selection and model assessment on the data. In particular, you would like to (i) find the best model among the simple linear regression using only the 'management' column you used above and a multivariate regression using each management practice dimension explicitly:*\n",
    "\\begin{align}\n",
    "ln(sales) =  &  \\alpha + \\beta_1\\times lean1 + \\beta_2\\times lean2 + \\beta_3\\times perf1 + \\beta_4\\times perf2 + \\beta_5\\times perf3\\\\\n",
    "&+ \\beta_6\\times perf4 + \\beta_7\\times perf5 + \\beta_8\\times perf6 + \\beta_9\\times perf7 + \\beta_{10}\\times perf8 \\\\\n",
    "& + \\beta_{11}\\times perf9 + \\beta_{12}\\times perf10 + \\beta_{13}\\times talent1 + \\beta_{14}\\times talent2 + \\beta_{15}\\times talent3 \\\\\n",
    "& + \\beta_{16}\\times talent4 + \\beta_{17}\\times talent5 + \\beta_{18}\\times talent6 + \\epsilon\n",
    "\\end{align}\n",
    "*and (ii) get an unbiased estimate of the best of these to models.*"
   ]
  },
  {
   "cell_type": "markdown",
   "metadata": {},
   "source": [
    "__f)__ Describe the validation set approach (with model selection) and explain why this approach is preferable to using the validation set approach you described in b) when performing both model selection and assessment.\n",
    "<div style=\"text-align: right\"> <b>3 points</b> </div>"
   ]
  },
  {
   "cell_type": "markdown",
   "metadata": {},
   "source": [
    "'# Insert your answer here:\n",
    "\n",
    "\n",
    "\n"
   ]
  },
  {
   "cell_type": "code",
   "execution_count": 9,
   "metadata": {},
   "outputs": [],
   "source": [
    "X_train_new, X_val, y_train_new, y_val = train_test_split(X_train,\n",
    "                                                          y_train,\n",
    "                                                          train_size=2/3,\n",
    "                                                          random_state=181)"
   ]
  },
  {
   "cell_type": "markdown",
   "metadata": {},
   "source": [
    "__g)__ The code cell above splits up the training data previously defined into a new training set and a validation set (assuming train_test_split has been imported). Please execute the cell. Now perform the validation set approach (with model selection) in order to choose the best of the two models. For this, please print both models' validation mean squared error. Furthermore, print an unbiased estimate of the best model's mean squared error.\n",
    "<div style=\"text-align: right\"> <b>6 points</b> </div>"
   ]
  },
  {
   "cell_type": "code",
   "execution_count": 2,
   "metadata": {},
   "outputs": [],
   "source": [
    "# Insert your code below:\n",
    "\n",
    "\n",
    "\n"
   ]
  },
  {
   "cell_type": "markdown",
   "metadata": {},
   "source": [
    "__h)__ Comment on your results: Which model appear to be the best of the two? Give a potential reason for this.\n",
    "<div style=\"text-align: right\"> <b>3 points</b> </div>"
   ]
  },
  {
   "cell_type": "markdown",
   "metadata": {},
   "source": [
    "'# Insert your answer here:\n",
    "\n",
    "\n",
    "\n"
   ]
  },
  {
   "cell_type": "markdown",
   "metadata": {},
   "source": [
    "__i)__ What is the potential drawback of the validation set approach? Describe a method you have learned about which may remedy this.\n",
    "<div style=\"text-align: right\"> <b>3 points</b> </div>"
   ]
  },
  {
   "cell_type": "markdown",
   "metadata": {},
   "source": [
    "'# Insert your answer here:\n",
    "\n",
    "\n",
    "\n"
   ]
  }
 ],
 "metadata": {
  "kernelspec": {
   "display_name": "Python 3",
   "language": "python",
   "name": "python3"
  },
  "language_info": {
   "codemirror_mode": {
    "name": "ipython",
    "version": 3
   },
   "file_extension": ".py",
   "mimetype": "text/x-python",
   "name": "python",
   "nbconvert_exporter": "python",
   "pygments_lexer": "ipython3",
   "version": "3.7.3"
  },
  "toc": {
   "base_numbering": 1,
   "nav_menu": {},
   "number_sections": false,
   "sideBar": true,
   "skip_h1_title": true,
   "title_cell": "Course Contents",
   "title_sidebar": "Contents",
   "toc_cell": false,
   "toc_position": {
    "height": "calc(100% - 180px)",
    "left": "10px",
    "top": "150px",
    "width": "207.7px"
   },
   "toc_section_display": true,
   "toc_window_display": false
  }
 },
 "nbformat": 4,
 "nbformat_minor": 2
}
